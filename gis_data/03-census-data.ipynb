{
 "cells": [
  {
   "cell_type": "markdown",
   "metadata": {},
   "source": [
    "# Census Data\n",
    "## Intro to GIS Analysis\n",
    "\n",
    "Since weather data is highly location dependent, we need to look at specific sites for accessing weather data. So far, we've focused on ISONE and New Hampshire, so let's continue with that trend.\n",
    "\n",
    "This notebook drew inspiration from a [tutorial on `PyGIS` website](https://pygis.io/docs/d_access_census.html) by Steven Chao.\n",
    "\n",
    "First, we'll download some \"shapefiles\" and population data from the US Census, then we'll access weather data from NWS."
   ]
  },
  {
   "cell_type": "code",
   "execution_count": 1,
   "metadata": {},
   "outputs": [],
   "source": [
    "# import libraries\n",
    "\n",
    "import numpy as np\n",
    "import matplotlib.pyplot as plt\n",
    "import pandas as pd\n",
    "import geopandas as gpd\n",
    "from dotenv import load_dotenv\n",
    "import requests\n",
    "import json\n",
    "import os\n",
    "import datetime as dt\n",
    "from tqdm import trange, tqdm\n",
    "from census import Census\n",
    "from us import states\n",
    "from shapely.geometry import Polygon, Point\n",
    "\n",
    "pd.options.display.max_columns = None\n",
    "\n",
    "# load the environment variables\n",
    "load_dotenv()\n",
    "\n",
    "# set api key\n",
    "census_key = os.environ.get('CENSUS_API_KEY')"
   ]
  },
  {
   "cell_type": "markdown",
   "metadata": {},
   "source": [
    "## Download census data"
   ]
  },
  {
   "cell_type": "code",
   "execution_count": 2,
   "metadata": {},
   "outputs": [],
   "source": [
    "new_hampshire = states.lookup('NH')\n",
    "nh_fips = new_hampshire.fips"
   ]
  },
  {
   "cell_type": "code",
   "execution_count": 3,
   "metadata": {},
   "outputs": [],
   "source": [
    "c = Census(census_key)"
   ]
  },
  {
   "cell_type": "code",
   "execution_count": 4,
   "metadata": {},
   "outputs": [
    {
     "data": {
      "text/html": [
       "<div>\n",
       "<style scoped>\n",
       "    .dataframe tbody tr th:only-of-type {\n",
       "        vertical-align: middle;\n",
       "    }\n",
       "\n",
       "    .dataframe tbody tr th {\n",
       "        vertical-align: top;\n",
       "    }\n",
       "\n",
       "    .dataframe thead th {\n",
       "        text-align: right;\n",
       "    }\n",
       "</style>\n",
       "<table border=\"1\" class=\"dataframe\">\n",
       "  <thead>\n",
       "    <tr style=\"text-align: right;\">\n",
       "      <th></th>\n",
       "      <th>NAME</th>\n",
       "      <th>C17002_001E</th>\n",
       "      <th>C17002_002E</th>\n",
       "      <th>C17002_003E</th>\n",
       "      <th>B01003_001E</th>\n",
       "      <th>state</th>\n",
       "      <th>county</th>\n",
       "      <th>tract</th>\n",
       "    </tr>\n",
       "  </thead>\n",
       "  <tbody>\n",
       "    <tr>\n",
       "      <th>0</th>\n",
       "      <td>Census Tract 9651, Belknap County, New Hampshire</td>\n",
       "      <td>3397.0</td>\n",
       "      <td>126.0</td>\n",
       "      <td>103.0</td>\n",
       "      <td>3397.0</td>\n",
       "      <td>33</td>\n",
       "      <td>001</td>\n",
       "      <td>965100</td>\n",
       "    </tr>\n",
       "    <tr>\n",
       "      <th>1</th>\n",
       "      <td>Census Tract 9652, Belknap County, New Hampshire</td>\n",
       "      <td>3324.0</td>\n",
       "      <td>272.0</td>\n",
       "      <td>221.0</td>\n",
       "      <td>3324.0</td>\n",
       "      <td>33</td>\n",
       "      <td>001</td>\n",
       "      <td>965200</td>\n",
       "    </tr>\n",
       "    <tr>\n",
       "      <th>2</th>\n",
       "      <td>Census Tract 9653, Belknap County, New Hampshire</td>\n",
       "      <td>3298.0</td>\n",
       "      <td>78.0</td>\n",
       "      <td>132.0</td>\n",
       "      <td>3306.0</td>\n",
       "      <td>33</td>\n",
       "      <td>001</td>\n",
       "      <td>965300</td>\n",
       "    </tr>\n",
       "  </tbody>\n",
       "</table>\n",
       "</div>"
      ],
      "text/plain": [
       "                                               NAME  C17002_001E  C17002_002E  \\\n",
       "0  Census Tract 9651, Belknap County, New Hampshire       3397.0        126.0   \n",
       "1  Census Tract 9652, Belknap County, New Hampshire       3324.0        272.0   \n",
       "2  Census Tract 9653, Belknap County, New Hampshire       3298.0         78.0   \n",
       "\n",
       "   C17002_003E  B01003_001E state county   tract  \n",
       "0        103.0       3397.0    33    001  965100  \n",
       "1        221.0       3324.0    33    001  965200  \n",
       "2        132.0       3306.0    33    001  965300  "
      ]
     },
     "execution_count": 4,
     "metadata": {},
     "output_type": "execute_result"
    }
   ],
   "source": [
    "nh_df = pd.DataFrame(c.acs5.state_county_tract(fields=('NAME', 'C17002_001E', 'C17002_002E', 'C17002_003E', 'B01003_001E'),\n",
    "                          state_fips=nh_fips, \n",
    "                          county_fips='*',\n",
    "                          tract='*',\n",
    "                          year=2021)\n",
    "                     )\n",
    "nh_df.head(3)"
   ]
  },
  {
   "cell_type": "markdown",
   "metadata": {},
   "source": [
    "## Download shapefile data\n",
    "\n",
    "For this, I created a function to automatically download a shapefile for any state."
   ]
  },
  {
   "cell_type": "code",
   "execution_count": 5,
   "metadata": {},
   "outputs": [],
   "source": [
    "_TIGER_URL = \"https://www2.census.gov/geo/tiger/\"\n",
    "\n",
    "def get_tiger_files(year, state_abbr, feature='tract'):\n",
    "    \"\"\"\n",
    "    This function retrievs a TIGER shapefile from the United States Census\n",
    "    website.\n",
    "\n",
    "    Parameters\n",
    "    ----------\n",
    "    year : int\n",
    "        The shapefile year of interest.\n",
    "    state_abbr : str\n",
    "        The abbreviation for the state of interest.\n",
    "    feature : str, optional\n",
    "        Indicates which TIGER file data feature to extract, by default 'tract'.\n",
    "    \"\"\"\n",
    "    \n",
    "    \n",
    "    try:\n",
    "        state = states.lookup(state_abbr)\n",
    "        assert state, f\"{state_abbr} is not a state in the U.S.\"\n",
    "    except AssertionError as error:\n",
    "        raise error\n",
    "\n",
    "    _FEATURE_FILE = {'tract':f'TRACT/tl_{year}_{state.fips}_tract.zip',\n",
    "                     'county':f\"COUNTY/tl_{year}_us_county.zip\"}\n",
    "    data_route = f\"TIGER{year}/{_FEATURE_FILE[feature]}\"\n",
    "    \n",
    "    geo_df = gpd.read_file(_TIGER_URL+data_route)\n",
    "    \n",
    "    return geo_df"
   ]
  },
  {
   "cell_type": "code",
   "execution_count": 6,
   "metadata": {},
   "outputs": [
    {
     "data": {
      "text/html": [
       "<div>\n",
       "<style scoped>\n",
       "    .dataframe tbody tr th:only-of-type {\n",
       "        vertical-align: middle;\n",
       "    }\n",
       "\n",
       "    .dataframe tbody tr th {\n",
       "        vertical-align: top;\n",
       "    }\n",
       "\n",
       "    .dataframe thead th {\n",
       "        text-align: right;\n",
       "    }\n",
       "</style>\n",
       "<table border=\"1\" class=\"dataframe\">\n",
       "  <thead>\n",
       "    <tr style=\"text-align: right;\">\n",
       "      <th></th>\n",
       "      <th>STATEFP</th>\n",
       "      <th>COUNTYFP</th>\n",
       "      <th>TRACTCE</th>\n",
       "      <th>GEOID</th>\n",
       "      <th>NAME</th>\n",
       "      <th>NAMELSAD</th>\n",
       "      <th>MTFCC</th>\n",
       "      <th>FUNCSTAT</th>\n",
       "      <th>ALAND</th>\n",
       "      <th>AWATER</th>\n",
       "      <th>INTPTLAT</th>\n",
       "      <th>INTPTLON</th>\n",
       "      <th>geometry</th>\n",
       "    </tr>\n",
       "  </thead>\n",
       "  <tbody>\n",
       "    <tr>\n",
       "      <th>0</th>\n",
       "      <td>33</td>\n",
       "      <td>001</td>\n",
       "      <td>965802</td>\n",
       "      <td>33001965802</td>\n",
       "      <td>9658.02</td>\n",
       "      <td>Census Tract 9658.02</td>\n",
       "      <td>G5020</td>\n",
       "      <td>S</td>\n",
       "      <td>42284243</td>\n",
       "      <td>499214</td>\n",
       "      <td>+43.4554725</td>\n",
       "      <td>-071.4514896</td>\n",
       "      <td>POLYGON ((-71.53589 43.44579, -71.53160 43.445...</td>\n",
       "    </tr>\n",
       "    <tr>\n",
       "      <th>1</th>\n",
       "      <td>33</td>\n",
       "      <td>011</td>\n",
       "      <td>019501</td>\n",
       "      <td>33011019501</td>\n",
       "      <td>195.01</td>\n",
       "      <td>Census Tract 195.01</td>\n",
       "      <td>G5020</td>\n",
       "      <td>S</td>\n",
       "      <td>78829083</td>\n",
       "      <td>300378</td>\n",
       "      <td>+42.8964089</td>\n",
       "      <td>-071.7683309</td>\n",
       "      <td>POLYGON ((-71.85505 42.89050, -71.83436 42.892...</td>\n",
       "    </tr>\n",
       "    <tr>\n",
       "      <th>2</th>\n",
       "      <td>33</td>\n",
       "      <td>011</td>\n",
       "      <td>018502</td>\n",
       "      <td>33011018502</td>\n",
       "      <td>185.02</td>\n",
       "      <td>Census Tract 185.02</td>\n",
       "      <td>G5020</td>\n",
       "      <td>S</td>\n",
       "      <td>61990098</td>\n",
       "      <td>143147</td>\n",
       "      <td>+42.7421807</td>\n",
       "      <td>-071.7509684</td>\n",
       "      <td>POLYGON ((-71.80816 42.72543, -71.80434 42.725...</td>\n",
       "    </tr>\n",
       "  </tbody>\n",
       "</table>\n",
       "</div>"
      ],
      "text/plain": [
       "  STATEFP COUNTYFP TRACTCE        GEOID     NAME              NAMELSAD  MTFCC  \\\n",
       "0      33      001  965802  33001965802  9658.02  Census Tract 9658.02  G5020   \n",
       "1      33      011  019501  33011019501   195.01   Census Tract 195.01  G5020   \n",
       "2      33      011  018502  33011018502   185.02   Census Tract 185.02  G5020   \n",
       "\n",
       "  FUNCSTAT     ALAND  AWATER     INTPTLAT      INTPTLON  \\\n",
       "0        S  42284243  499214  +43.4554725  -071.4514896   \n",
       "1        S  78829083  300378  +42.8964089  -071.7683309   \n",
       "2        S  61990098  143147  +42.7421807  -071.7509684   \n",
       "\n",
       "                                            geometry  \n",
       "0  POLYGON ((-71.53589 43.44579, -71.53160 43.445...  \n",
       "1  POLYGON ((-71.85505 42.89050, -71.83436 42.892...  \n",
       "2  POLYGON ((-71.80816 42.72543, -71.80434 42.725...  "
      ]
     },
     "execution_count": 6,
     "metadata": {},
     "output_type": "execute_result"
    }
   ],
   "source": [
    "nh_tracts = get_tiger_files(2022, 'NH')\n",
    "nh_tracts.head(3)"
   ]
  },
  {
   "cell_type": "code",
   "execution_count": 7,
   "metadata": {},
   "outputs": [
    {
     "data": {
      "text/plain": [
       "<Geographic 2D CRS: EPSG:4269>\n",
       "Name: NAD83\n",
       "Axis Info [ellipsoidal]:\n",
       "- Lat[north]: Geodetic latitude (degree)\n",
       "- Lon[east]: Geodetic longitude (degree)\n",
       "Area of Use:\n",
       "- name: North America - onshore and offshore: Canada - Alberta; British Columbia; Manitoba; New Brunswick; Newfoundland and Labrador; Northwest Territories; Nova Scotia; Nunavut; Ontario; Prince Edward Island; Quebec; Saskatchewan; Yukon. Puerto Rico. United States (USA) - Alabama; Alaska; Arizona; Arkansas; California; Colorado; Connecticut; Delaware; Florida; Georgia; Hawaii; Idaho; Illinois; Indiana; Iowa; Kansas; Kentucky; Louisiana; Maine; Maryland; Massachusetts; Michigan; Minnesota; Mississippi; Missouri; Montana; Nebraska; Nevada; New Hampshire; New Jersey; New Mexico; New York; North Carolina; North Dakota; Ohio; Oklahoma; Oregon; Pennsylvania; Rhode Island; South Carolina; South Dakota; Tennessee; Texas; Utah; Vermont; Virginia; Washington; West Virginia; Wisconsin; Wyoming. US Virgin Islands. British Virgin Islands.\n",
       "- bounds: (167.65, 14.92, -40.73, 86.45)\n",
       "Datum: North American Datum 1983\n",
       "- Ellipsoid: GRS 1980\n",
       "- Prime Meridian: Greenwich"
      ]
     },
     "execution_count": 7,
     "metadata": {},
     "output_type": "execute_result"
    }
   ],
   "source": [
    "nh_tracts.crs"
   ]
  },
  {
   "cell_type": "code",
   "execution_count": 8,
   "metadata": {},
   "outputs": [
    {
     "data": {
      "image/png": "[encoded data removed]",
      "text/plain": [
       "<Figure size 640x480 with 1 Axes>"
      ]
     },
     "metadata": {},
     "output_type": "display_data"
    }
   ],
   "source": [
    "ax = nh_tracts.plot(facecolor='w',edgecolor='k')\n",
    "ax.set_axis_off()"
   ]
  },
  {
   "cell_type": "markdown",
   "metadata": {},
   "source": [
    "## Combine the datasets\n",
    "\n",
    "The census dataset is missing geometry and has slightly different column information. With a few operations, we can merge these two datasets."
   ]
  },
  {
   "cell_type": "code",
   "execution_count": 9,
   "metadata": {},
   "outputs": [
    {
     "data": {
      "text/html": [
       "<div>\n",
       "<style scoped>\n",
       "    .dataframe tbody tr th:only-of-type {\n",
       "        vertical-align: middle;\n",
       "    }\n",
       "\n",
       "    .dataframe tbody tr th {\n",
       "        vertical-align: top;\n",
       "    }\n",
       "\n",
       "    .dataframe thead th {\n",
       "        text-align: right;\n",
       "    }\n",
       "</style>\n",
       "<table border=\"1\" class=\"dataframe\">\n",
       "  <thead>\n",
       "    <tr style=\"text-align: right;\">\n",
       "      <th></th>\n",
       "      <th>NAME</th>\n",
       "      <th>C17002_001E</th>\n",
       "      <th>C17002_002E</th>\n",
       "      <th>C17002_003E</th>\n",
       "      <th>B01003_001E</th>\n",
       "      <th>GEOID</th>\n",
       "    </tr>\n",
       "  </thead>\n",
       "  <tbody>\n",
       "    <tr>\n",
       "      <th>0</th>\n",
       "      <td>Census Tract 9651, Belknap County, New Hampshire</td>\n",
       "      <td>3397.0</td>\n",
       "      <td>126.0</td>\n",
       "      <td>103.0</td>\n",
       "      <td>3397.0</td>\n",
       "      <td>33001965100</td>\n",
       "    </tr>\n",
       "    <tr>\n",
       "      <th>1</th>\n",
       "      <td>Census Tract 9652, Belknap County, New Hampshire</td>\n",
       "      <td>3324.0</td>\n",
       "      <td>272.0</td>\n",
       "      <td>221.0</td>\n",
       "      <td>3324.0</td>\n",
       "      <td>33001965200</td>\n",
       "    </tr>\n",
       "  </tbody>\n",
       "</table>\n",
       "</div>"
      ],
      "text/plain": [
       "                                               NAME  C17002_001E  C17002_002E  \\\n",
       "0  Census Tract 9651, Belknap County, New Hampshire       3397.0        126.0   \n",
       "1  Census Tract 9652, Belknap County, New Hampshire       3324.0        272.0   \n",
       "\n",
       "   C17002_003E  B01003_001E        GEOID  \n",
       "0        103.0       3397.0  33001965100  \n",
       "1        221.0       3324.0  33001965200  "
      ]
     },
     "execution_count": 9,
     "metadata": {},
     "output_type": "execute_result"
    }
   ],
   "source": [
    "nh_df['GEOID'] = nh_df['state'] + nh_df['county'] + nh_df['tract']\n",
    "nh_df.drop(columns=['state','county','tract'], inplace=True)\n",
    "nh_df.head(2)"
   ]
  },
  {
   "cell_type": "code",
   "execution_count": 10,
   "metadata": {},
   "outputs": [
    {
     "data": {
      "text/html": [
       "<div>\n",
       "<style scoped>\n",
       "    .dataframe tbody tr th:only-of-type {\n",
       "        vertical-align: middle;\n",
       "    }\n",
       "\n",
       "    .dataframe tbody tr th {\n",
       "        vertical-align: top;\n",
       "    }\n",
       "\n",
       "    .dataframe thead th {\n",
       "        text-align: right;\n",
       "    }\n",
       "</style>\n",
       "<table border=\"1\" class=\"dataframe\">\n",
       "  <thead>\n",
       "    <tr style=\"text-align: right;\">\n",
       "      <th></th>\n",
       "      <th>STATEFP</th>\n",
       "      <th>COUNTYFP</th>\n",
       "      <th>TRACTCE</th>\n",
       "      <th>GEOID</th>\n",
       "      <th>NAME_x</th>\n",
       "      <th>NAMELSAD</th>\n",
       "      <th>MTFCC</th>\n",
       "      <th>FUNCSTAT</th>\n",
       "      <th>ALAND</th>\n",
       "      <th>AWATER</th>\n",
       "      <th>INTPTLAT</th>\n",
       "      <th>INTPTLON</th>\n",
       "      <th>geometry</th>\n",
       "      <th>NAME_y</th>\n",
       "      <th>C17002_001E</th>\n",
       "      <th>C17002_002E</th>\n",
       "      <th>C17002_003E</th>\n",
       "      <th>B01003_001E</th>\n",
       "    </tr>\n",
       "  </thead>\n",
       "  <tbody>\n",
       "    <tr>\n",
       "      <th>0</th>\n",
       "      <td>33</td>\n",
       "      <td>001</td>\n",
       "      <td>965802</td>\n",
       "      <td>33001965802</td>\n",
       "      <td>9658.02</td>\n",
       "      <td>Census Tract 9658.02</td>\n",
       "      <td>G5020</td>\n",
       "      <td>S</td>\n",
       "      <td>42284243</td>\n",
       "      <td>499214</td>\n",
       "      <td>+43.4554725</td>\n",
       "      <td>-071.4514896</td>\n",
       "      <td>POLYGON ((-71.53589 43.44579, -71.53160 43.445...</td>\n",
       "      <td>Census Tract 9658.02, Belknap County, New Hamp...</td>\n",
       "      <td>3968.0</td>\n",
       "      <td>302.0</td>\n",
       "      <td>221.0</td>\n",
       "      <td>3968.0</td>\n",
       "    </tr>\n",
       "    <tr>\n",
       "      <th>1</th>\n",
       "      <td>33</td>\n",
       "      <td>011</td>\n",
       "      <td>019501</td>\n",
       "      <td>33011019501</td>\n",
       "      <td>195.01</td>\n",
       "      <td>Census Tract 195.01</td>\n",
       "      <td>G5020</td>\n",
       "      <td>S</td>\n",
       "      <td>78829083</td>\n",
       "      <td>300378</td>\n",
       "      <td>+42.8964089</td>\n",
       "      <td>-071.7683309</td>\n",
       "      <td>POLYGON ((-71.85505 42.89050, -71.83436 42.892...</td>\n",
       "      <td>Census Tract 195.01, Hillsborough County, New ...</td>\n",
       "      <td>1640.0</td>\n",
       "      <td>39.0</td>\n",
       "      <td>0.0</td>\n",
       "      <td>1643.0</td>\n",
       "    </tr>\n",
       "  </tbody>\n",
       "</table>\n",
       "</div>"
      ],
      "text/plain": [
       "  STATEFP COUNTYFP TRACTCE        GEOID   NAME_x              NAMELSAD  MTFCC  \\\n",
       "0      33      001  965802  33001965802  9658.02  Census Tract 9658.02  G5020   \n",
       "1      33      011  019501  33011019501   195.01   Census Tract 195.01  G5020   \n",
       "\n",
       "  FUNCSTAT     ALAND  AWATER     INTPTLAT      INTPTLON  \\\n",
       "0        S  42284243  499214  +43.4554725  -071.4514896   \n",
       "1        S  78829083  300378  +42.8964089  -071.7683309   \n",
       "\n",
       "                                            geometry  \\\n",
       "0  POLYGON ((-71.53589 43.44579, -71.53160 43.445...   \n",
       "1  POLYGON ((-71.85505 42.89050, -71.83436 42.892...   \n",
       "\n",
       "                                              NAME_y  C17002_001E  \\\n",
       "0  Census Tract 9658.02, Belknap County, New Hamp...       3968.0   \n",
       "1  Census Tract 195.01, Hillsborough County, New ...       1640.0   \n",
       "\n",
       "   C17002_002E  C17002_003E  B01003_001E  \n",
       "0        302.0        221.0       3968.0  \n",
       "1         39.0          0.0       1643.0  "
      ]
     },
     "execution_count": 10,
     "metadata": {},
     "output_type": "execute_result"
    }
   ],
   "source": [
    "nh_combined = pd.merge(nh_tracts, nh_df, on='GEOID')\n",
    "nh_combined.head(2)"
   ]
  },
  {
   "cell_type": "code",
   "execution_count": 12,
   "metadata": {},
   "outputs": [],
   "source": [
    "nh_population = nh_combined[[\"STATEFP\", \"COUNTYFP\", \"TRACTCE\", \"GEOID\", \"geometry\", \"C17002_001E\", \"C17002_002E\", \"C17002_003E\", \"B01003_001E\"]]\n",
    "# nh_population.rename(columns={'B01003_001E':\"Population\"}, inplace=True)"
   ]
  },
  {
   "cell_type": "markdown",
   "metadata": {},
   "source": [
    "## Get county level statistics"
   ]
  },
  {
   "cell_type": "code",
   "execution_count": 13,
   "metadata": {},
   "outputs": [
    {
     "name": "stdout",
     "output_type": "stream",
     "text": [
      "                                                   geometry  \\\n",
      "COUNTYFP                                                      \n",
      "001       POLYGON ((-71.47225 43.41173, -71.47355 43.412...   \n",
      "003       POLYGON ((-71.12840 43.57219, -71.12878 43.571...   \n",
      "\n",
      "                                         STATEFP  \\\n",
      "COUNTYFP                                           \n",
      "001         333333333333333333333333333333333333   \n",
      "003       33333333333333333333333333333333333333   \n",
      "\n",
      "                                                    TRACTCE  \\\n",
      "COUNTYFP                                                      \n",
      "001       9658029664039664049658019665019665029652009656...   \n",
      "003       9560009561029563019558029563029551019556029553...   \n",
      "\n",
      "                                                      GEOID  C17002_001E  \\\n",
      "COUNTYFP                                                                   \n",
      "001       3300196580233001966403330019664043300196580133...      62642.0   \n",
      "003       3300395600033003956102330039563013300395580233...      49311.0   \n",
      "\n",
      "          C17002_002E  C17002_003E  B01003_001E  \n",
      "COUNTYFP                                         \n",
      "001            1959.0       3060.0      63395.0  \n",
      "003            1899.0       1950.0      49961.0  \n",
      "Shape:  (10, 8)\n"
     ]
    }
   ],
   "source": [
    "# Dissolve and group the census tracts within each county and aggregate all the values together\n",
    "# Source: https://geopandas.org/docs/user_guide/aggregation_with_dissolve.html\n",
    "nh_population_county = nh_population.dissolve(by = 'COUNTYFP', aggfunc = 'sum')\n",
    "\n",
    "# Show dataframe\n",
    "print(nh_population_county.head(2))\n",
    "print('Shape: ', nh_population_county.shape)"
   ]
  },
  {
   "cell_type": "code",
   "execution_count": 14,
   "metadata": {},
   "outputs": [
    {
     "data": {
      "text/html": [
       "<div>\n",
       "<style scoped>\n",
       "    .dataframe tbody tr th:only-of-type {\n",
       "        vertical-align: middle;\n",
       "    }\n",
       "\n",
       "    .dataframe tbody tr th {\n",
       "        vertical-align: top;\n",
       "    }\n",
       "\n",
       "    .dataframe thead th {\n",
       "        text-align: right;\n",
       "    }\n",
       "</style>\n",
       "<table border=\"1\" class=\"dataframe\">\n",
       "  <thead>\n",
       "    <tr style=\"text-align: right;\">\n",
       "      <th></th>\n",
       "      <th>geometry</th>\n",
       "      <th>STATEFP</th>\n",
       "      <th>TRACTCE</th>\n",
       "      <th>GEOID</th>\n",
       "      <th>C17002_001E</th>\n",
       "      <th>C17002_002E</th>\n",
       "      <th>C17002_003E</th>\n",
       "      <th>B01003_001E</th>\n",
       "      <th>Poverty_Rate</th>\n",
       "    </tr>\n",
       "    <tr>\n",
       "      <th>COUNTYFP</th>\n",
       "      <th></th>\n",
       "      <th></th>\n",
       "      <th></th>\n",
       "      <th></th>\n",
       "      <th></th>\n",
       "      <th></th>\n",
       "      <th></th>\n",
       "      <th></th>\n",
       "      <th></th>\n",
       "    </tr>\n",
       "  </thead>\n",
       "  <tbody>\n",
       "    <tr>\n",
       "      <th>001</th>\n",
       "      <td>POLYGON ((-71.47225 43.41173, -71.47355 43.412...</td>\n",
       "      <td>333333333333333333333333333333333333</td>\n",
       "      <td>9658029664039664049658019665019665029652009656...</td>\n",
       "      <td>3300196580233001966403330019664043300196580133...</td>\n",
       "      <td>62642.0</td>\n",
       "      <td>1959.0</td>\n",
       "      <td>3060.0</td>\n",
       "      <td>63395.0</td>\n",
       "      <td>7.917028</td>\n",
       "    </tr>\n",
       "    <tr>\n",
       "      <th>003</th>\n",
       "      <td>POLYGON ((-71.12840 43.57219, -71.12878 43.571...</td>\n",
       "      <td>33333333333333333333333333333333333333</td>\n",
       "      <td>9560009561029563019558029563029551019556029553...</td>\n",
       "      <td>3300395600033003956102330039563013300395580233...</td>\n",
       "      <td>49311.0</td>\n",
       "      <td>1899.0</td>\n",
       "      <td>1950.0</td>\n",
       "      <td>49961.0</td>\n",
       "      <td>7.704009</td>\n",
       "    </tr>\n",
       "  </tbody>\n",
       "</table>\n",
       "</div>"
      ],
      "text/plain": [
       "                                                   geometry  \\\n",
       "COUNTYFP                                                      \n",
       "001       POLYGON ((-71.47225 43.41173, -71.47355 43.412...   \n",
       "003       POLYGON ((-71.12840 43.57219, -71.12878 43.571...   \n",
       "\n",
       "                                         STATEFP  \\\n",
       "COUNTYFP                                           \n",
       "001         333333333333333333333333333333333333   \n",
       "003       33333333333333333333333333333333333333   \n",
       "\n",
       "                                                    TRACTCE  \\\n",
       "COUNTYFP                                                      \n",
       "001       9658029664039664049658019665019665029652009656...   \n",
       "003       9560009561029563019558029563029551019556029553...   \n",
       "\n",
       "                                                      GEOID  C17002_001E  \\\n",
       "COUNTYFP                                                                   \n",
       "001       3300196580233001966403330019664043300196580133...      62642.0   \n",
       "003       3300395600033003956102330039563013300395580233...      49311.0   \n",
       "\n",
       "          C17002_002E  C17002_003E  B01003_001E  Poverty_Rate  \n",
       "COUNTYFP                                                       \n",
       "001            1959.0       3060.0      63395.0      7.917028  \n",
       "003            1899.0       1950.0      49961.0      7.704009  "
      ]
     },
     "execution_count": 14,
     "metadata": {},
     "output_type": "execute_result"
    }
   ],
   "source": [
    "# Get poverty rate and store values in new column\n",
    "nh_population_county[\"Poverty_Rate\"] = (nh_population_county[\"C17002_002E\"] + nh_population_county[\"C17002_003E\"]) / nh_population_county[\"B01003_001E\"] * 100\n",
    "\n",
    "# Show dataframe\n",
    "nh_population_county.head(2)"
   ]
  },
  {
   "cell_type": "markdown",
   "metadata": {},
   "source": [
    "## Plot the data"
   ]
  },
  {
   "cell_type": "code",
   "execution_count": 16,
   "metadata": {},
   "outputs": [
    {
     "data": {
      "image/png": "[encoded data removed]",
      "text/plain": [
       "<Figure size 2000x1000 with 2 Axes>"
      ]
     },
     "metadata": {},
     "output_type": "display_data"
    }
   ],
   "source": [
    "# Create subplots\n",
    "fig, ax = plt.subplots(1, 1, figsize = (20, 10))\n",
    "\n",
    "# Plot data\n",
    "# Source: https://geopandas.readthedocs.io/en/latest/docs/user_guide/mapping.html\n",
    "nh_population_county.plot(column = \"Poverty_Rate\",\n",
    "                       ax = ax,\n",
    "                       cmap = \"plasma\",\n",
    "                       legend = True)\n",
    "\n",
    "# Stylize plots\n",
    "plt.style.use('bmh')\n",
    "\n",
    "# Set title\n",
    "ax.set_title('Poverty Rates (%) in New Hampshire', fontdict = {'fontsize': '25', 'fontweight' : '3'})\n",
    "ax.set_axis_off()"
   ]
  },
  {
   "cell_type": "code",
   "execution_count": null,
   "metadata": {},
   "outputs": [],
   "source": []
  }
 ],
 "metadata": {
  "kernelspec": {
   "display_name": "danger-season",
   "language": "python",
   "name": "python3"
  },
  "language_info": {
   "codemirror_mode": {
    "name": "ipython",
    "version": 3
   },
   "file_extension": ".py",
   "mimetype": "text/x-python",
   "name": "python",
   "nbconvert_exporter": "python",
   "pygments_lexer": "ipython3",
   "version": "3.10.13"
  }
 },
 "nbformat": 4,
 "nbformat_minor": 2
}
