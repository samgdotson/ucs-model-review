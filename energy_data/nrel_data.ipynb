{
 "cells": [
  {
   "cell_type": "code",
   "execution_count": 1,
   "metadata": {},
   "outputs": [],
   "source": [
    "import pandas as pd\n",
    "import requests\n",
    "import numpy as np\n",
    "import json\n",
    "import matplotlib.pyplot as plt\n",
    "import shapely"
   ]
  },
  {
   "cell_type": "code",
   "execution_count": 3,
   "metadata": {},
   "outputs": [],
   "source": [
    "with open(\"nrel-api-key.txt\", \"r\") as file:\n",
    "    api_key = file.readlines()[0].strip('\\n')"
   ]
  },
  {
   "cell_type": "markdown",
   "metadata": {},
   "source": [
    "### Parameter options\n",
    "* air_temperature, \n",
    "* clearsky_dhi, \n",
    "* clearsky_dni, \n",
    "* clearsky_ghi, \n",
    "* cloud_type, \n",
    "* dew_point, \n",
    "* dhi, \n",
    "* dni, \n",
    "* fill_flag, \n",
    "* ghi, \n",
    "* ghuv-280-400, \n",
    "* ghuv-295-385, \n",
    "* relative_humidity, \n",
    "* solar_zenith_angle, \n",
    "* surface_albedo, \n",
    "* surface_pressure, \n",
    "* total_precipitable_water, \n",
    "* wind_direction, \n",
    "* wind_speed"
   ]
  },
  {
   "cell_type": "code",
   "execution_count": 4,
   "metadata": {},
   "outputs": [],
   "source": [
    "required_params = {'api_key':api_key,\n",
    "                   'wkt':None,\n",
    "                   'names':None,\n",
    "                   'interval':30,\n",
    "                   'email':'sdotson@ucsusa.org'}"
   ]
  },
  {
   "cell_type": "code",
   "execution_count": 5,
   "metadata": {},
   "outputs": [],
   "source": [
    "params = {'attributes':None,\n",
    "          'utc':'true',\n",
    "          'leap_day':'false',\n",
    "          'full_name':None,\n",
    "          'reason':None,\n",
    "          'affiliation':None,\n",
    "          'mailing_list':'false'}"
   ]
  },
  {
   "cell_type": "code",
   "execution_count": 6,
   "metadata": {},
   "outputs": [],
   "source": [
    "URL = \"https://developer.nrel.gov/api/nsrdb/v2/psm3-2-2-download\""
   ]
  },
  {
   "cell_type": "code",
   "execution_count": null,
   "metadata": {},
   "outputs": [],
   "source": []
  }
 ],
 "metadata": {
  "kernelspec": {
   "display_name": "calliope",
   "language": "python",
   "name": "python3"
  },
  "language_info": {
   "codemirror_mode": {
    "name": "ipython",
    "version": 3
   },
   "file_extension": ".py",
   "mimetype": "text/x-python",
   "name": "python",
   "nbconvert_exporter": "python",
   "pygments_lexer": "ipython3",
   "version": "3.10.13"
  }
 },
 "nbformat": 4,
 "nbformat_minor": 2
}
