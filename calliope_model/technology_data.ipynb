{
 "cells": [
  {
   "cell_type": "markdown",
   "metadata": {},
   "source": [
    "# Setting up Calliope Technology Data\n",
    "\n",
    "This notebook sets up the technology data for a Calliope model.\n",
    "\n",
    "The data will be retrieved from NREL's Annual Technology Baseline using ``nrelpy``. The required data will be retrieved from Calliope's [documentation](https://calliope.readthedocs.io/en/stable/user/config_defaults.html#)."
   ]
  },
  {
   "cell_type": "code",
   "execution_count": 1,
   "metadata": {},
   "outputs": [],
   "source": [
    "from nrelpy.atb import ATBe"
   ]
  },
  {
   "cell_type": "code",
   "execution_count": 2,
   "metadata": {},
   "outputs": [],
   "source": [
    "import nrelpy\n",
    "import pandas as pd\n",
    "import numpy as np\n",
    "import yaml\n",
    "import matplotlib.pyplot as plt"
   ]
  },
  {
   "cell_type": "code",
   "execution_count": 3,
   "metadata": {},
   "outputs": [],
   "source": [
    "frames = pd.read_html(\"https://calliope.readthedocs.io/en/stable/user/config_defaults.html#\")"
   ]
  },
  {
   "cell_type": "code",
   "execution_count": 4,
   "metadata": {},
   "outputs": [
    {
     "data": {
      "text/html": [
       "<div>\n",
       "<style scoped>\n",
       "    .dataframe tbody tr th:only-of-type {\n",
       "        vertical-align: middle;\n",
       "    }\n",
       "\n",
       "    .dataframe tbody tr th {\n",
       "        vertical-align: top;\n",
       "    }\n",
       "\n",
       "    .dataframe thead th {\n",
       "        text-align: right;\n",
       "    }\n",
       "</style>\n",
       "<table border=\"1\" class=\"dataframe\">\n",
       "  <thead>\n",
       "    <tr style=\"text-align: right;\">\n",
       "      <th></th>\n",
       "      <th>Setting</th>\n",
       "      <th>Default</th>\n",
       "      <th>Comments</th>\n",
       "    </tr>\n",
       "  </thead>\n",
       "  <tbody>\n",
       "    <tr>\n",
       "      <th>0</th>\n",
       "      <td>calliope_version</td>\n",
       "      <td>NaN</td>\n",
       "      <td>Calliope framework version this model is inten...</td>\n",
       "    </tr>\n",
       "    <tr>\n",
       "      <th>1</th>\n",
       "      <td>group_share</td>\n",
       "      <td>{}</td>\n",
       "      <td>Optional settings for the group_share constrai...</td>\n",
       "    </tr>\n",
       "  </tbody>\n",
       "</table>\n",
       "</div>"
      ],
      "text/plain": [
       "            Setting Default                                           Comments\n",
       "0  calliope_version     NaN  Calliope framework version this model is inten...\n",
       "1       group_share      {}  Optional settings for the group_share constrai..."
      ]
     },
     "metadata": {},
     "output_type": "display_data"
    },
    {
     "data": {
      "text/html": [
       "<div>\n",
       "<style scoped>\n",
       "    .dataframe tbody tr th:only-of-type {\n",
       "        vertical-align: middle;\n",
       "    }\n",
       "\n",
       "    .dataframe tbody tr th {\n",
       "        vertical-align: top;\n",
       "    }\n",
       "\n",
       "    .dataframe thead th {\n",
       "        text-align: right;\n",
       "    }\n",
       "</style>\n",
       "<table border=\"1\" class=\"dataframe\">\n",
       "  <thead>\n",
       "    <tr style=\"text-align: right;\">\n",
       "      <th></th>\n",
       "      <th>Setting</th>\n",
       "      <th>Default</th>\n",
       "      <th>Comments</th>\n",
       "    </tr>\n",
       "  </thead>\n",
       "  <tbody>\n",
       "    <tr>\n",
       "      <th>0</th>\n",
       "      <td>backend</td>\n",
       "      <td>pyomo</td>\n",
       "      <td>Backend to use to build and solve the model. A...</td>\n",
       "    </tr>\n",
       "    <tr>\n",
       "      <th>1</th>\n",
       "      <td>bigM</td>\n",
       "      <td>1000000000.0</td>\n",
       "      <td>Used for unmet demand, but should be of a simi...</td>\n",
       "    </tr>\n",
       "  </tbody>\n",
       "</table>\n",
       "</div>"
      ],
      "text/plain": [
       "   Setting       Default                                           Comments\n",
       "0  backend         pyomo  Backend to use to build and solve the model. A...\n",
       "1     bigM  1000000000.0  Used for unmet demand, but should be of a simi..."
      ]
     },
     "metadata": {},
     "output_type": "display_data"
    },
    {
     "data": {
      "text/html": [
       "<div>\n",
       "<style scoped>\n",
       "    .dataframe tbody tr th:only-of-type {\n",
       "        vertical-align: middle;\n",
       "    }\n",
       "\n",
       "    .dataframe tbody tr th {\n",
       "        vertical-align: top;\n",
       "    }\n",
       "\n",
       "    .dataframe thead th {\n",
       "        text-align: right;\n",
       "    }\n",
       "</style>\n",
       "<table border=\"1\" class=\"dataframe\">\n",
       "  <thead>\n",
       "    <tr style=\"text-align: right;\">\n",
       "      <th></th>\n",
       "      <th>Setting</th>\n",
       "      <th>Default</th>\n",
       "      <th>Name</th>\n",
       "      <th>Unit</th>\n",
       "      <th>Comments</th>\n",
       "    </tr>\n",
       "  </thead>\n",
       "  <tbody>\n",
       "    <tr>\n",
       "      <th>0</th>\n",
       "      <td>carrier_ratios</td>\n",
       "      <td>NaN</td>\n",
       "      <td>Carrier ratios</td>\n",
       "      <td>fraction</td>\n",
       "      <td>Ratio of summed output of carriers in [‘out_2’...</td>\n",
       "    </tr>\n",
       "    <tr>\n",
       "      <th>1</th>\n",
       "      <td>charge_rate</td>\n",
       "      <td>NaN</td>\n",
       "      <td>Charge rate</td>\n",
       "      <td>hour -1</td>\n",
       "      <td>(do not use, replaced by energy_cap_per_storag...</td>\n",
       "    </tr>\n",
       "  </tbody>\n",
       "</table>\n",
       "</div>"
      ],
      "text/plain": [
       "          Setting Default            Name      Unit  \\\n",
       "0  carrier_ratios     NaN  Carrier ratios  fraction   \n",
       "1     charge_rate     NaN     Charge rate   hour -1   \n",
       "\n",
       "                                            Comments  \n",
       "0  Ratio of summed output of carriers in [‘out_2’...  \n",
       "1  (do not use, replaced by energy_cap_per_storag...  "
      ]
     },
     "metadata": {},
     "output_type": "display_data"
    },
    {
     "data": {
      "text/html": [
       "<div>\n",
       "<style scoped>\n",
       "    .dataframe tbody tr th:only-of-type {\n",
       "        vertical-align: middle;\n",
       "    }\n",
       "\n",
       "    .dataframe tbody tr th {\n",
       "        vertical-align: top;\n",
       "    }\n",
       "\n",
       "    .dataframe thead th {\n",
       "        text-align: right;\n",
       "    }\n",
       "</style>\n",
       "<table border=\"1\" class=\"dataframe\">\n",
       "  <thead>\n",
       "    <tr style=\"text-align: right;\">\n",
       "      <th></th>\n",
       "      <th>Setting</th>\n",
       "      <th>Default</th>\n",
       "      <th>Name</th>\n",
       "      <th>Unit</th>\n",
       "      <th>Comments</th>\n",
       "    </tr>\n",
       "  </thead>\n",
       "  <tbody>\n",
       "    <tr>\n",
       "      <th>0</th>\n",
       "      <td>energy_cap</td>\n",
       "      <td>0</td>\n",
       "      <td>Cost of energy capacity</td>\n",
       "      <td>kW gross -1</td>\n",
       "      <td>NaN</td>\n",
       "    </tr>\n",
       "    <tr>\n",
       "      <th>1</th>\n",
       "      <td>energy_cap_per_distance</td>\n",
       "      <td>0</td>\n",
       "      <td>Cost of energy capacity, per unit distance</td>\n",
       "      <td>kW gross -1 / distance</td>\n",
       "      <td>Applied to transmission links only</td>\n",
       "    </tr>\n",
       "  </tbody>\n",
       "</table>\n",
       "</div>"
      ],
      "text/plain": [
       "                   Setting  Default  \\\n",
       "0               energy_cap        0   \n",
       "1  energy_cap_per_distance        0   \n",
       "\n",
       "                                         Name                    Unit  \\\n",
       "0                     Cost of energy capacity             kW gross -1   \n",
       "1  Cost of energy capacity, per unit distance  kW gross -1 / distance   \n",
       "\n",
       "                             Comments  \n",
       "0                                 NaN  \n",
       "1  Applied to transmission links only  "
      ]
     },
     "metadata": {},
     "output_type": "display_data"
    }
   ],
   "source": [
    "for f in frames:\n",
    "    display(f.head(2))"
   ]
  },
  {
   "cell_type": "code",
   "execution_count": 5,
   "metadata": {},
   "outputs": [],
   "source": [
    "operational_constraints = frames[2]\n",
    "cost_constraints = frames[3]"
   ]
  },
  {
   "cell_type": "code",
   "execution_count": 6,
   "metadata": {},
   "outputs": [],
   "source": [
    "atb = ATBe(year=2023)"
   ]
  },
  {
   "cell_type": "code",
   "execution_count": 7,
   "metadata": {},
   "outputs": [],
   "source": [
    "techs = [\"Coal\",\n",
    "\"Hydro\",\n",
    "\"Natural gas\",\n",
    "\"Nuclear\",\n",
    "\"Other\",\n",
    "\"Solar\",\n",
    "\"Wind\",]"
   ]
  },
  {
   "cell_type": "code",
   "execution_count": 8,
   "metadata": {},
   "outputs": [
    {
     "data": {
      "text/plain": [
       "['core_metric_case',\n",
       " 'crpyears',\n",
       " 'maturity',\n",
       " 'scale',\n",
       " 'scenario',\n",
       " 'technology',\n",
       " 'core_metric_parameter',\n",
       " 'core_metric_variable']"
      ]
     },
     "execution_count": 8,
     "metadata": {},
     "output_type": "execute_result"
    }
   ],
   "source": [
    "atb.index_names"
   ]
  },
  {
   "cell_type": "code",
   "execution_count": 9,
   "metadata": {},
   "outputs": [],
   "source": [
    "nrel_techs = ['Coal_FE','Hydropower','NaturalGas_FE','Nuclear','UtilityPV','LandbasedWind']"
   ]
  },
  {
   "cell_type": "code",
   "execution_count": 10,
   "metadata": {},
   "outputs": [],
   "source": [
    "coal_data = atb(scenario='Moderate',\n",
    "    maturity='Y', \n",
    "    scale='Utility', \n",
    "    core_metric_case='Market', \n",
    "    crpyears=20, \n",
    "    core_metric_variable=2025,\n",
    "    technology=\"Coal_FE\")['Coal-new']\n",
    "# coal_data"
   ]
  },
  {
   "cell_type": "code",
   "execution_count": 40,
   "metadata": {},
   "outputs": [],
   "source": [
    "coal_tech = {\"essentials\":{'name':'Coal',\n",
    "                           'parent':'supply',\n",
    "                           'carrier':'power',\n",
    "                           'color':'#000000'},\n",
    "             'constraints':{'energy_prod':'true',\n",
    "                            'energy_ramping':0.4,\n",
    "                            'lifetime':75,\n",
    "                            },\n",
    "             'costs':{'monetary':{'interest_rate':0.10,\n",
    "                                  'energy_cap':float(coal_data.loc['CAPEX']),\n",
    "                                  'om_annual':float(coal_data.loc['Fixed O&M']),\n",
    "                                  'om_prod':float(coal_data.loc['Variable O&M']+9.34)/1e3}}}"
   ]
  },
  {
   "cell_type": "code",
   "execution_count": 12,
   "metadata": {},
   "outputs": [],
   "source": [
    "pv_data = atb(scenario='Moderate',\n",
    "    maturity='Y', \n",
    "    scale='Utility', \n",
    "    core_metric_case='Market', \n",
    "    crpyears=20, \n",
    "    core_metric_variable=2025,\n",
    "    technology=\"UtilityPV\")['Utility PV - Class 7']\n",
    "# pv_data"
   ]
  },
  {
   "cell_type": "code",
   "execution_count": 51,
   "metadata": {},
   "outputs": [],
   "source": [
    "pv_tech = {\"essentials\":{'name':'UtilityPV',\n",
    "                           'parent':'supply_plus',\n",
    "                           'carrier':'power',\n",
    "                           'color':'#fcd305'},\n",
    "             'constraints':{'energy_prod':'true',\n",
    "                            'lifetime':20,\n",
    "                            'resource':'file=2023-miso-solar.csv',\n",
    "                            'resource_area_max':16781678900000000.0,\n",
    "                            'resource_unit':'energy',\n",
    "                            # 'force_resource':'true'\n",
    "                            },\n",
    "             'costs':{'monetary':{'interest_rate':0.10,\n",
    "                                  'energy_cap':float(pv_data.loc['CAPEX']),\n",
    "                                  'om_annual':float(pv_data.loc['Fixed O&M'])}}}"
   ]
  },
  {
   "cell_type": "code",
   "execution_count": 14,
   "metadata": {},
   "outputs": [],
   "source": [
    "wind_data = atb(scenario='Moderate',\n",
    "    maturity='Y', \n",
    "    scale='Utility', \n",
    "    core_metric_case='Market', \n",
    "    crpyears=20, \n",
    "    core_metric_variable=2025,\n",
    "    technology=\"LandbasedWind\")['Land-Based Wind - Class 6 - Technology 1']\n",
    "# wind_data"
   ]
  },
  {
   "cell_type": "code",
   "execution_count": 52,
   "metadata": {},
   "outputs": [],
   "source": [
    "wind_tech = {\"essentials\":{'name':'LandbasedWind',\n",
    "                           'parent':'supply_plus',\n",
    "                           'carrier':'power',\n",
    "                           'color':'#05fcf8'},\n",
    "             'constraints':{'energy_prod':'true',\n",
    "                            'lifetime':20,\n",
    "                            'resource':'file=2023-miso-wind.csv',\n",
    "                            'resource_area_max':16781678900000000.0,\n",
    "                            'resource_unit':'energy',\n",
    "                            # 'force_resource':'true'\n",
    "                            },\n",
    "             'costs':{'monetary':{'interest_rate':0.10,\n",
    "                                  'energy_cap':float(wind_data.loc['CAPEX']),\n",
    "                                  'om_annual':float(wind_data.loc['Fixed O&M'])}}}"
   ]
  },
  {
   "cell_type": "code",
   "execution_count": 16,
   "metadata": {},
   "outputs": [],
   "source": [
    "natgas_data = atb(scenario='Moderate',\n",
    "    maturity='Y', \n",
    "    scale='Utility', \n",
    "    core_metric_case='Market', \n",
    "    crpyears=20, \n",
    "    core_metric_variable=2025,\n",
    "    technology=\"NaturalGas_FE\")['NG Combined Cycle (F-Frame)']\n",
    "# natgas_data"
   ]
  },
  {
   "cell_type": "code",
   "execution_count": 37,
   "metadata": {},
   "outputs": [],
   "source": [
    "natgas_tech = {\"essentials\":{'name':'NaturalGas-CC',\n",
    "                           'parent':'supply',\n",
    "                           'carrier':'power',\n",
    "                           'color':'#c77228'},\n",
    "             'constraints':{'energy_prod':'true',\n",
    "                            'energy_ramping':0.8,\n",
    "                            'lifetime':50,\n",
    "                            },\n",
    "             'costs':{'monetary':{'interest_rate':0.10,\n",
    "                                  'energy_cap':float(natgas_data.loc['CAPEX']),\n",
    "                                  'om_annual':float(natgas_data.loc['Fixed O&M']),\n",
    "                                  'om_prod':float(natgas_data.loc['Variable O&M']+12.45)/1e3}}}"
   ]
  },
  {
   "cell_type": "code",
   "execution_count": 18,
   "metadata": {},
   "outputs": [],
   "source": [
    "hydro_data = atb(scenario='Moderate',\n",
    "    maturity='Y', \n",
    "    scale='Utility', \n",
    "    core_metric_case='Market', \n",
    "    crpyears=20, \n",
    "    core_metric_variable=2025,\n",
    "    technology=\"Hydropower\")['Hydropower - NSD 3']\n",
    "# hydro_data"
   ]
  },
  {
   "cell_type": "code",
   "execution_count": 36,
   "metadata": {},
   "outputs": [],
   "source": [
    "hydro_tech = {\"essentials\":{'name':'Hydropower',\n",
    "                           'parent':'supply_plus',\n",
    "                           'carrier':'power',\n",
    "                           'color':'#282dc8'},\n",
    "             'constraints':{'energy_prod':'true',\n",
    "                            'lifetime':100,\n",
    "                            'resource_unit':'energy',\n",
    "                            'resource_eff':float(hydro_data.loc['CF'])\n",
    "                            },\n",
    "             'costs':{'monetary':{'interest_rate':0.10,\n",
    "                                  'energy_cap':float(hydro_data.loc['CAPEX']),\n",
    "                                  'om_annual':float(hydro_data.loc['Fixed O&M'])}}}"
   ]
  },
  {
   "cell_type": "code",
   "execution_count": 20,
   "metadata": {},
   "outputs": [
    {
     "data": {
      "text/plain": [
       "core_metric_parameter\n",
       "CAPEX           8106.020999\n",
       "CFC             1693.702992\n",
       "Fixed O&M        152.120000\n",
       "Heat Rate         10.447000\n",
       "OCC             6412.318007\n",
       "Variable O&M       2.470000\n",
       "CF                 0.927000\n",
       "FCR                0.061003\n",
       "LCOE              88.971842\n",
       "Fuel               6.874484\n",
       "Name: Nuclear - AP1000, dtype: float64"
      ]
     },
     "execution_count": 20,
     "metadata": {},
     "output_type": "execute_result"
    }
   ],
   "source": [
    "nuclear_data = atb(scenario='Moderate',\n",
    "    maturity='Y', \n",
    "    scale='Utility', \n",
    "    core_metric_case='Market', \n",
    "    crpyears=20, \n",
    "    core_metric_variable=2025,\n",
    "    technology=\"Nuclear\")['Nuclear - AP1000']\n",
    "nuclear_data"
   ]
  },
  {
   "cell_type": "code",
   "execution_count": 35,
   "metadata": {},
   "outputs": [],
   "source": [
    "nuclear_tech = {\"essentials\":{'name':'Nuclear AP1000',\n",
    "                           'parent':'supply',\n",
    "                           'carrier':'power',\n",
    "                           'color':'#097805'},\n",
    "             'constraints':{'energy_prod':'true',\n",
    "                            'energy_ramping':0.8,\n",
    "                            'lifetime':60,\n",
    "                            },\n",
    "             'costs':{'monetary':{'interest_rate':0.10,\n",
    "                                  'energy_cap':float(nuclear_data.loc['CAPEX']),\n",
    "                                  'om_annual':float(nuclear_data.loc['Fixed O&M']),\n",
    "                                  'om_prod':float(nuclear_data.loc['Variable O&M']+nuclear_data.loc['Fuel'])/1e3}}}"
   ]
  },
  {
   "cell_type": "code",
   "execution_count": 43,
   "metadata": {},
   "outputs": [],
   "source": [
    "demand_tech = {\"essentials\":{\"name\":'Power demand',\n",
    "                             \"color\":\"#072486\",\n",
    "                             \"parent\":\"demand\",\n",
    "                             \"carrier\":\"power\"}}"
   ]
  },
  {
   "cell_type": "code",
   "execution_count": 53,
   "metadata": {},
   "outputs": [],
   "source": [
    "tech_data = {'ccgt':natgas_tech,\n",
    "             'nuclear':nuclear_tech,\n",
    "             'coal':coal_tech,\n",
    "             'util-pv':pv_tech,\n",
    "             'wind':wind_tech,\n",
    "             'hydro':hydro_tech,\n",
    "             'demand_power':demand_tech}\n",
    "tech_file = {'techs':tech_data}"
   ]
  },
  {
   "cell_type": "code",
   "execution_count": 54,
   "metadata": {},
   "outputs": [],
   "source": [
    "with open('model_config/miso_techs.yaml', 'w') as file:\n",
    "    yaml.dump(tech_file, file)"
   ]
  },
  {
   "cell_type": "code",
   "execution_count": null,
   "metadata": {},
   "outputs": [],
   "source": []
  }
 ],
 "metadata": {
  "kernelspec": {
   "display_name": "calliope",
   "language": "python",
   "name": "python3"
  },
  "language_info": {
   "codemirror_mode": {
    "name": "ipython",
    "version": 3
   },
   "file_extension": ".py",
   "mimetype": "text/x-python",
   "name": "python",
   "nbconvert_exporter": "python",
   "pygments_lexer": "ipython3",
   "version": "3.9.18"
  }
 },
 "nbformat": 4,
 "nbformat_minor": 2
}
